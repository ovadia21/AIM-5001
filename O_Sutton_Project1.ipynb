{
 "cells": [
  {
   "cell_type": "markdown",
   "id": "a8c0aba1",
   "metadata": {},
   "source": [
    "Ovadia Sutton\n",
    "AIM 5001 Project 1\n",
    "Text Processing and Regular Expressions"
   ]
  },
  {
   "cell_type": "markdown",
   "id": "f0d87ee1",
   "metadata": {},
   "source": [
    "Import libraries"
   ]
  },
  {
   "cell_type": "code",
   "execution_count": 466,
   "id": "d37d9a86",
   "metadata": {},
   "outputs": [],
   "source": [
    "import re\n",
    "import pandas as pd\n",
    "import numpy as np\n",
    "import statistics as st"
   ]
  },
  {
   "cell_type": "markdown",
   "id": "5e735823",
   "metadata": {},
   "source": [
    "Declare a text variable with text block provided"
   ]
  },
  {
   "cell_type": "code",
   "execution_count": 467,
   "id": "55af0db3",
   "metadata": {},
   "outputs": [],
   "source": [
    "#Decalre text as one long string \n",
    "text = \"555-1239Dr. Anthony Fauci(636) 555-0113Hollingdorp, Donnatella555-6542Fitzgerald, F. Scott555 8904Rev. Martin Luther King636-555-3226Snodgrass, Theodore5553642Carlamina Scarfoni\" "
   ]
  },
  {
   "cell_type": "markdown",
   "id": "e7d97a49",
   "metadata": {},
   "source": [
    "#Task 1:\n",
    "Extract the names of each individual from the unformatted text string shown above and store them in a vector of some sort."
   ]
  },
  {
   "cell_type": "markdown",
   "id": "396d79b0",
   "metadata": {},
   "source": [
    "We collect strings that contain any letters both uppercase and lowercase and allow the possibility of punctuation such as  , . or space. We demand 2 plus matches to avoid collecting the single spaces. "
   ]
  },
  {
   "cell_type": "code",
   "execution_count": 468,
   "id": "5042646e",
   "metadata": {
    "scrolled": true
   },
   "outputs": [
    {
     "name": "stdout",
     "output_type": "stream",
     "text": [
      "['Dr. Anthony Fauci', 'Hollingdorp, Donnatella', 'Fitzgerald, F. Scott', 'Rev. Martin Luther King', 'Snodgrass, Theodore', 'Carlamina Scarfoni']\n"
     ]
    }
   ],
   "source": [
    "#Declare a variable 'names' which finds strings of words and related punctuation and spacing - therefore extracting each full name as a separate entry in our vector\n",
    "names = re.findall('([A-Za-z?,?.?\\s?]{2,})', text)\n",
    "\n",
    "#print results\n",
    "print(names)"
   ]
  },
  {
   "cell_type": "markdown",
   "id": "802ca637",
   "metadata": {},
   "source": [
    "#Task 2a:\n",
    "Use your regex skills to rearrange the vector so that all elements conform to the standard “firstname lastname”, preserving any titles (e.g., “Rev.”, “Dr.”, etc) or middle/second names. "
   ]
  },
  {
   "cell_type": "markdown",
   "id": "bf82735d",
   "metadata": {},
   "source": [
    "Here I create a new vector. We loop through the names vector and identify if a name is followed by a ','. This indicates a last name preceding the first name. We use the sub function to swap the order of the two groups"
   ]
  },
  {
   "cell_type": "code",
   "execution_count": 469,
   "id": "5d3c1e8e",
   "metadata": {},
   "outputs": [
    {
     "name": "stdout",
     "output_type": "stream",
     "text": [
      "['Dr. Anthony Fauci', 'Donnatella Hollingdorp', 'F. Scott Fitzgerald', 'Rev. Martin Luther King', 'Theodore Snodgrass', 'Carlamina Scarfoni']\n"
     ]
    }
   ],
   "source": [
    "#Declare new list\n",
    "firstlast = []\n",
    "\n",
    "#Loop through names and identify last names preceding first names based on ','. then swap first and last name\n",
    "for i in names:\n",
    "    firstlast.append(re.sub('^([^,]*), (.*)', \"\\g<2> \\g<1>\", i))\n",
    "\n",
    "#print reults\n",
    "print(firstlast)  "
   ]
  },
  {
   "cell_type": "markdown",
   "id": "04fdd1b1",
   "metadata": {},
   "source": [
    "#Task 2b:\n",
    "Using your regex skills, construct a logical vector indicating whether a character has a title (i.e., Rev. and Dr.). "
   ]
  },
  {
   "cell_type": "markdown",
   "id": "171a11a9",
   "metadata": {},
   "source": [
    "Again we create a new vector and that loops through our new list of firstlast names.\n",
    "If the first letters encountered are more than two letters (avoiding single initital) and are followed by a '.', we deem it a title and add full name to vector. "
   ]
  },
  {
   "cell_type": "code",
   "execution_count": 470,
   "id": "3ba5c201",
   "metadata": {
    "scrolled": true
   },
   "outputs": [
    {
     "name": "stdout",
     "output_type": "stream",
     "text": [
      "[['Dr. Anthony Fauci'], [], [], ['Rev. Martin Luther King'], [], []]\n"
     ]
    }
   ],
   "source": [
    "#Create a new list\n",
    "Title = []\n",
    "\n",
    "#Loop through names and identify titles by seeing two or more letters followed by a '.'\n",
    "for i in firstlast:\n",
    "    Title.append(re.findall('([A-Za-z]{2,}[\\.][A-Za-z\\s]+)', i))\n",
    "\n",
    "#Print results\n",
    "print(Title)"
   ]
  },
  {
   "cell_type": "markdown",
   "id": "6e0aedcb",
   "metadata": {},
   "source": [
    "We use a pandas series to extract the logical version of this in a table\n",
    "We can also use the str.contains to see just true or false, but we were prompted to use extract by Jupyter\n",
    "Here we also extract just the title in a separate column"
   ]
  },
  {
   "cell_type": "code",
   "execution_count": 471,
   "id": "6696723a",
   "metadata": {},
   "outputs": [
    {
     "data": {
      "text/html": [
       "<div>\n",
       "<style scoped>\n",
       "    .dataframe tbody tr th:only-of-type {\n",
       "        vertical-align: middle;\n",
       "    }\n",
       "\n",
       "    .dataframe tbody tr th {\n",
       "        vertical-align: top;\n",
       "    }\n",
       "\n",
       "    .dataframe thead th {\n",
       "        text-align: right;\n",
       "    }\n",
       "</style>\n",
       "<table border=\"1\" class=\"dataframe\">\n",
       "  <thead>\n",
       "    <tr style=\"text-align: right;\">\n",
       "      <th></th>\n",
       "      <th>0</th>\n",
       "      <th>1</th>\n",
       "    </tr>\n",
       "  </thead>\n",
       "  <tbody>\n",
       "    <tr>\n",
       "      <th>0</th>\n",
       "      <td>Dr. Anthony Fauci</td>\n",
       "      <td>Dr.</td>\n",
       "    </tr>\n",
       "    <tr>\n",
       "      <th>1</th>\n",
       "      <td>NaN</td>\n",
       "      <td>NaN</td>\n",
       "    </tr>\n",
       "    <tr>\n",
       "      <th>2</th>\n",
       "      <td>NaN</td>\n",
       "      <td>NaN</td>\n",
       "    </tr>\n",
       "    <tr>\n",
       "      <th>3</th>\n",
       "      <td>Rev. Martin Luther King</td>\n",
       "      <td>Rev.</td>\n",
       "    </tr>\n",
       "    <tr>\n",
       "      <th>4</th>\n",
       "      <td>NaN</td>\n",
       "      <td>NaN</td>\n",
       "    </tr>\n",
       "    <tr>\n",
       "      <th>5</th>\n",
       "      <td>NaN</td>\n",
       "      <td>NaN</td>\n",
       "    </tr>\n",
       "  </tbody>\n",
       "</table>\n",
       "</div>"
      ],
      "text/plain": [
       "                         0     1\n",
       "0        Dr. Anthony Fauci   Dr.\n",
       "1                      NaN   NaN\n",
       "2                      NaN   NaN\n",
       "3  Rev. Martin Luther King  Rev.\n",
       "4                      NaN   NaN\n",
       "5                      NaN   NaN"
      ]
     },
     "execution_count": 471,
     "metadata": {},
     "output_type": "execute_result"
    }
   ],
   "source": [
    "#Declare firstlast in pd series\n",
    "firstlast = pd.Series(firstlast)\n",
    "\n",
    "#Extract results based on the same regex as above\n",
    "firstlast.str.extract('(([A-Za-z]{2,}[\\.])[A-Za-z\\s]+)')"
   ]
  },
  {
   "cell_type": "markdown",
   "id": "04215099",
   "metadata": {},
   "source": [
    "#Task 2c:\n",
    "Using your regex skills, construct a logical vector indicating whether a character has a middle/second name. "
   ]
  },
  {
   "cell_type": "markdown",
   "id": "7e0411fc",
   "metadata": {},
   "source": [
    "Use pandas vectorized string functions to identify if person has a middle name\n",
    "We do this by allowing for a first initial. (one capital letter) followed by two more words separated by a space, or 3 words without any '.' in them\n",
    "\n",
    "*We note that we could have used the above approaches as well (new list or pandas extract function)"
   ]
  },
  {
   "cell_type": "code",
   "execution_count": 472,
   "id": "e474a9a2",
   "metadata": {},
   "outputs": [
    {
     "name": "stderr",
     "output_type": "stream",
     "text": [
      "C:\\Users\\OVADIA~1\\AppData\\Local\\Temp/ipykernel_98928/3618682810.py:2: UserWarning: This pattern has match groups. To actually get the groups, use str.extract.\n",
      "  firstlast.str.contains('(([A-Z\\.]{2}|[A-Za-z]+)[\\s][A-Za-z]+[\\s][A-Za-z]+)')\n"
     ]
    },
    {
     "data": {
      "text/plain": [
       "0    False\n",
       "1    False\n",
       "2     True\n",
       "3     True\n",
       "4    False\n",
       "5    False\n",
       "dtype: bool"
      ]
     },
     "execution_count": 472,
     "metadata": {},
     "output_type": "execute_result"
    }
   ],
   "source": [
    "#Use pandas contians to find middle name (3 separate words or two preceded by a single initial)\n",
    "firstlast.str.contains('(([A-Z\\.]{2}|[A-Za-z]+)[\\s][A-Za-z]+[\\s][A-Za-z]+)')"
   ]
  },
  {
   "cell_type": "markdown",
   "id": "49d2d6f7",
   "metadata": {},
   "source": [
    "#Task 3:\n",
    "Consider the HTML string <title>+++BREAKING NEWS+++<title>. We would like to extract the first HTML tag (i.e., “<title>”). To do so we write the regular expression “<.+>”.  Explain why this fails and correct the expression. "
   ]
  },
  {
   "cell_type": "markdown",
   "id": "5f110c4e",
   "metadata": {},
   "source": [
    "From https://docs.python.org/3/library/re.html\n",
    "\"\n",
    "*?, +?, ??\n",
    "The '*', '+', and '?' qualifiers are all greedy; they match as much text as possible. Sometimes this behaviour isn’t desired; if the RE <.*> is matched against '<a> b <c>', it will match the entire string, and not just '<a>'. Adding ? after the qualifier makes it perform the match in non-greedy or minimal fashion; as few characters as possible will be matched. Using the RE <.*?> will match only '<a>'.\n",
    "\"\n",
    "The same is true here for the +. In short the + is more inclusive than we would like it to be and it matches the entire string. "
   ]
  },
  {
   "cell_type": "code",
   "execution_count": 473,
   "id": "453456e2",
   "metadata": {},
   "outputs": [
    {
     "name": "stdout",
     "output_type": "stream",
     "text": [
      "<re.Match object; span=(0, 33), match='<title>+++BREAKING NEWS+++<title>'>\n"
     ]
    }
   ],
   "source": [
    "#Without the ? matches entire string \n",
    "\n",
    "#Declare string\n",
    "news = '<title>+++BREAKING NEWS+++<title>'\n",
    "\n",
    "#Perform search with regex in problem (the greedy +)\n",
    "search = re.search('<.+>', news)\n",
    "\n",
    "#Print results shows entire string is in search\n",
    "print(search)"
   ]
  },
  {
   "cell_type": "markdown",
   "id": "3282d7b3",
   "metadata": {},
   "source": [
    "And so we edit to +? giving the desired result"
   ]
  },
  {
   "cell_type": "code",
   "execution_count": 474,
   "id": "300d9df0",
   "metadata": {},
   "outputs": [
    {
     "name": "stdout",
     "output_type": "stream",
     "text": [
      "<re.Match object; span=(0, 7), match='<title>'>\n"
     ]
    }
   ],
   "source": [
    "#With the ? only <title>\n",
    "\n",
    "#Declare string\n",
    "news = '<title>+++BREAKING NEWS+++<title>'\n",
    "\n",
    "#Perform search with the non-greedy +?\n",
    "search = re.search('<.+?>', news)\n",
    "\n",
    "#Print resulst shows search returns as desired\n",
    "print(search)"
   ]
  },
  {
   "cell_type": "markdown",
   "id": "9ac61499",
   "metadata": {},
   "source": [
    "Task 4:\n",
    "Consider the string “(5-3)^2=5^2-2*5*3+3^2” conforms to the binomial theorem. We would like to extract the equation in its entirety from the string. To do so we write the regular expression “[^0-9=+*()]+”. Explain why this fails and correct the expression. "
   ]
  },
  {
   "cell_type": "markdown",
   "id": "9fc6231c",
   "metadata": {},
   "source": [
    "The '^'  -  \"Matches the start of the string\" (https://docs.python.org/3/library/re.html)\n",
    "As such, here it is not including the ^ as the \"power of\" sign rather the start of string \n",
    "As well, the '-' sign is only used here to express range from 0 to 9 and is not including the \"subtraction\" sign"
   ]
  },
  {
   "cell_type": "code",
   "execution_count": 475,
   "id": "03540de3",
   "metadata": {},
   "outputs": [
    {
     "name": "stdout",
     "output_type": "stream",
     "text": [
      "<re.Match object; span=(2, 3), match='-'>\n"
     ]
    }
   ],
   "source": [
    "#Declare binomial string\n",
    "binomial = '(5-3)^2=5^2-2*5*3 +3^2'\n",
    "\n",
    "#Search with above suggestion\n",
    "search = re.search('[^0-9=+*()]+', binomial)\n",
    "\n",
    "#Print results showing only beginning is observed\n",
    "print(search)"
   ]
  },
  {
   "cell_type": "markdown",
   "id": "2e9191a9",
   "metadata": {},
   "source": [
    "So we edit moving the '^' to the end as well as an extra '-' at the end"
   ]
  },
  {
   "cell_type": "code",
   "execution_count": 476,
   "id": "2ea59c11",
   "metadata": {
    "scrolled": true
   },
   "outputs": [
    {
     "name": "stdout",
     "output_type": "stream",
     "text": [
      "<re.Match object; span=(0, 17), match='(5-3)^2=5^2-2*5*3'>\n"
     ]
    }
   ],
   "source": [
    "#Declare binomial string\n",
    "binomial = '(5-3)^2=5^2-2*5*3 +3^2'\n",
    "\n",
    "#Search with ^ and - at end\n",
    "search = re.search('[0-9=+*()^-]+', binomial)\n",
    "\n",
    "#Print results and show the entire equation as desired\n",
    "print(search)"
   ]
  },
  {
   "cell_type": "markdown",
   "id": "6e51c0f7",
   "metadata": {},
   "source": [
    "Part 2"
   ]
  },
  {
   "cell_type": "markdown",
   "id": "b005824e",
   "metadata": {},
   "source": [
    "We read in the file for reference"
   ]
  },
  {
   "cell_type": "code",
   "execution_count": 477,
   "id": "02f2bad9",
   "metadata": {},
   "outputs": [
    {
     "name": "stdout",
     "output_type": "stream",
     "text": [
      "-----------------------------------------------------------------------------------------\n",
      " Pair | Player Name                     |Total|Round|Round|Round|Round|Round|Round|Round| \n",
      " Num  | USCF ID / Rtg (Pre->Post)       | Pts |  1  |  2  |  3  |  4  |  5  |  6  |  7  | \n",
      "-----------------------------------------------------------------------------------------\n",
      "    1 | GARY HUA                        |6.0  |W  39|W  21|W  18|W  14|W   7|D  12|D   4|\n",
      "   ON | 15445895 / R: 1794   ->1817     |N:2  |W    |B    |W    |B    |W    |B    |W    |\n",
      "-----------------------------------------------------------------------------------------\n",
      "    2 | DAKSHESH DARURI                 |6.0  |W  63|W  58|L   4|W  17|W  16|W  20|W   7|\n",
      "   MI | 14598900 / R: 1553   ->1663     |N:2  |B    |W    |B    |W    |B    |W    |B    |\n",
      "-----------------------------------------------------------------------------------------\n",
      "    3 | ADITYA BAJAJ                    |6.0  |L   8|W  61|W  25|W  21|W  11|W  13|W  12|\n",
      "   MI | 14959604 / R: 1384   ->1640     |N:2  |W    |B    |W    |B    |W    |B    |W    |\n",
      "-----------------------------------------------------------------------------------------\n",
      "    4 | PATRICK H SCHILLING             |5.5  |W  23|D  28|W   2|W  26|D   5|W  19|D   1|\n",
      "   MI | 12616049 / R: 1716   ->1744     |N:2  |W    |B    |W    |B    |W    |B    |B    |\n",
      "-----------------------------------------------------------------------------------------\n",
      "    5 | HANSHI ZUO                      |5.5  |W  45|W  37|D  12|D  13|D   4|W  14|W  17|\n",
      "   MI | 14601533 / R: 1655   ->1690     |N:2  |B    |W    |B    |W    |B    |W    |B    |\n",
      "-----------------------------------------------------------------------------------------\n",
      "    6 | HANSEN SONG                     |5.0  |W  34|D  29|L  11|W  35|D  10|W  27|W  21|\n",
      "   OH | 15055204 / R: 1686   ->1687     |N:3  |W    |B    |W    |B    |B    |W    |B    |\n",
      "-----------------------------------------------------------------------------------------\n",
      "    7 | GARY DEE SWATHELL               |5.0  |W  57|W  46|W  13|W  11|L   1|W   9|L   2|\n",
      "   MI | 11146376 / R: 1649   ->1673     |N:3  |W    |B    |W    |B    |B    |W    |W    |\n",
      "-----------------------------------------------------------------------------------------\n",
      "    8 | EZEKIEL HOUGHTON                |5.0  |W   3|W  32|L  14|L   9|W  47|W  28|W  19|\n",
      "   MI | 15142253 / R: 1641P17->1657P24  |N:3  |B    |W    |B    |W    |B    |W    |W    |\n",
      "-----------------------------------------------------------------------------------------\n",
      "    9 | STEFANO LEE                     |5.0  |W  25|L  18|W  59|W   8|W  26|L   7|W  20|\n",
      "   ON | 14954524 / R: 1411   ->1564     |N:2  |W    |B    |W    |B    |W    |B    |B    |\n",
      "-----------------------------------------------------------------------------------------\n",
      "   10 | ANVIT RAO                       |5.0  |D  16|L  19|W  55|W  31|D   6|W  25|W  18|\n",
      "   MI | 14150362 / R: 1365   ->1544     |N:3  |W    |W    |B    |B    |W    |B    |W    |\n",
      "-----------------------------------------------------------------------------------------\n",
      "   11 | CAMERON WILLIAM MC LEMAN        |4.5  |D  38|W  56|W   6|L   7|L   3|W  34|W  26|\n",
      "   MI | 12581589 / R: 1712   ->1696     |N:3  |B    |W    |B    |W    |B    |W    |B    |\n",
      "-----------------------------------------------------------------------------------------\n",
      "   12 | KENNETH J TACK                  |4.5  |W  42|W  33|D   5|W  38|H    |D   1|L   3|\n",
      "   MI | 12681257 / R: 1663   ->1670     |N:3  |W    |B    |W    |B    |     |W    |B    |\n",
      "-----------------------------------------------------------------------------------------\n",
      "   13 | TORRANCE HENRY JR               |4.5  |W  36|W  27|L   7|D   5|W  33|L   3|W  32|\n",
      "   MI | 15082995 / R: 1666   ->1662     |N:3  |B    |W    |B    |B    |W    |W    |B    |\n",
      "-----------------------------------------------------------------------------------------\n",
      "   14 | BRADLEY SHAW                    |4.5  |W  54|W  44|W   8|L   1|D  27|L   5|W  31|\n",
      "   MI | 10131499 / R: 1610   ->1618     |N:3  |W    |B    |W    |W    |B    |B    |W    |\n",
      "-----------------------------------------------------------------------------------------\n",
      "   15 | ZACHARY JAMES HOUGHTON          |4.5  |D  19|L  16|W  30|L  22|W  54|W  33|W  38|\n",
      "   MI | 15619130 / R: 1220P13->1416P20  |N:3  |B    |B    |W    |W    |B    |B    |W    |\n",
      "-----------------------------------------------------------------------------------------\n",
      "   16 | MIKE NIKITIN                    |4.0  |D  10|W  15|H    |W  39|L   2|W  36|U    |\n",
      "   MI | 10295068 / R: 1604   ->1613     |N:3  |B    |W    |     |B    |W    |B    |     |\n",
      "-----------------------------------------------------------------------------------------\n",
      "   17 | RONALD GRZEGORCZYK              |4.0  |W  48|W  41|L  26|L   2|W  23|W  22|L   5|\n",
      "   MI | 10297702 / R: 1629   ->1610     |N:3  |W    |B    |W    |B    |W    |B    |W    |\n",
      "-----------------------------------------------------------------------------------------\n",
      "   18 | DAVID SUNDEEN                   |4.0  |W  47|W   9|L   1|W  32|L  19|W  38|L  10|\n",
      "   MI | 11342094 / R: 1600   ->1600     |N:3  |B    |W    |B    |W    |B    |W    |B    |\n",
      "-----------------------------------------------------------------------------------------\n",
      "   19 | DIPANKAR ROY                    |4.0  |D  15|W  10|W  52|D  28|W  18|L   4|L   8|\n",
      "   MI | 14862333 / R: 1564   ->1570     |N:3  |W    |B    |W    |B    |W    |W    |B    |\n",
      "-----------------------------------------------------------------------------------------\n",
      "   20 | JASON ZHENG                     |4.0  |L  40|W  49|W  23|W  41|W  28|L   2|L   9|\n",
      "   MI | 14529060 / R: 1595   ->1569     |N:4  |W    |B    |W    |B    |W    |B    |W    |\n",
      "-----------------------------------------------------------------------------------------\n",
      "   21 | DINH DANG BUI                   |4.0  |W  43|L   1|W  47|L   3|W  40|W  39|L   6|\n",
      "   ON | 15495066 / R: 1563P22->1562     |N:3  |B    |W    |B    |W    |W    |B    |W    |\n",
      "-----------------------------------------------------------------------------------------\n",
      "   22 | EUGENE L MCCLURE                |4.0  |W  64|D  52|L  28|W  15|H    |L  17|W  40|\n",
      "   MI | 12405534 / R: 1555   ->1529     |N:4  |W    |B    |W    |B    |     |W    |B    |\n",
      "-----------------------------------------------------------------------------------------\n",
      "   23 | ALAN BUI                        |4.0  |L   4|W  43|L  20|W  58|L  17|W  37|W  46|\n",
      "   ON | 15030142 / R: 1363   ->1371     |     |B    |W    |B    |W    |B    |W    |B    |\n",
      "-----------------------------------------------------------------------------------------\n",
      "   24 | MICHAEL R ALDRICH               |4.0  |L  28|L  47|W  43|L  25|W  60|W  44|W  39|\n",
      "   MI | 13469010 / R: 1229   ->1300     |N:4  |B    |W    |B    |B    |W    |W    |B    |\n",
      "-----------------------------------------------------------------------------------------\n",
      "   25 | LOREN SCHWIEBERT                |3.5  |L   9|W  53|L   3|W  24|D  34|L  10|W  47|\n",
      "   MI | 12486656 / R: 1745   ->1681     |N:4  |B    |W    |B    |W    |B    |W    |B    |\n",
      "-----------------------------------------------------------------------------------------\n",
      "   26 | MAX ZHU                         |3.5  |W  49|W  40|W  17|L   4|L   9|D  32|L  11|\n",
      "   ON | 15131520 / R: 1579   ->1564     |N:4  |B    |W    |B    |W    |B    |W    |W    |\n",
      "-----------------------------------------------------------------------------------------\n",
      "   27 | GAURAV GIDWANI                  |3.5  |W  51|L  13|W  46|W  37|D  14|L   6|U    |\n",
      "   MI | 14476567 / R: 1552   ->1539     |N:4  |W    |B    |W    |B    |W    |B    |     |\n",
      "-----------------------------------------------------------------------------------------\n",
      "   28 | SOFIA ADINA STANESCU-BELLU      |3.5  |W  24|D   4|W  22|D  19|L  20|L   8|D  36|\n",
      "   MI | 14882954 / R: 1507   ->1513     |N:3  |W    |W    |B    |W    |B    |B    |W    |\n",
      "-----------------------------------------------------------------------------------------\n",
      "   29 | CHIEDOZIE OKORIE                |3.5  |W  50|D   6|L  38|L  34|W  52|W  48|U    |\n",
      "   MI | 15323285 / R: 1602P6 ->1508P12  |N:4  |B    |W    |B    |W    |W    |B    |     |\n",
      "-----------------------------------------------------------------------------------------\n",
      "   30 | GEORGE AVERY JONES              |3.5  |L  52|D  64|L  15|W  55|L  31|W  61|W  50|\n",
      "   ON | 12577178 / R: 1522   ->1444     |     |W    |B    |B    |W    |W    |B    |B    |\n",
      "-----------------------------------------------------------------------------------------\n",
      "   31 | RISHI SHETTY                    |3.5  |L  58|D  55|W  64|L  10|W  30|W  50|L  14|\n",
      "   MI | 15131618 / R: 1494   ->1444     |     |B    |W    |B    |W    |B    |W    |B    |\n",
      "-----------------------------------------------------------------------------------------\n",
      "   32 | JOSHUA PHILIP MATHEWS           |3.5  |W  61|L   8|W  44|L  18|W  51|D  26|L  13|\n",
      "   ON | 14073750 / R: 1441   ->1433     |N:4  |W    |B    |W    |B    |W    |B    |W    |\n",
      "-----------------------------------------------------------------------------------------\n",
      "   33 | JADE GE                         |3.5  |W  60|L  12|W  50|D  36|L  13|L  15|W  51|\n",
      "   MI | 14691842 / R: 1449   ->1421     |     |B    |W    |B    |W    |B    |W    |B    |\n",
      "-----------------------------------------------------------------------------------------\n",
      "   34 | MICHAEL JEFFERY THOMAS          |3.5  |L   6|W  60|L  37|W  29|D  25|L  11|W  52|\n",
      "   MI | 15051807 / R: 1399   ->1400     |     |B    |W    |B    |B    |W    |B    |W    |\n",
      "-----------------------------------------------------------------------------------------\n",
      "   35 | JOSHUA DAVID LEE                |3.5  |L  46|L  38|W  56|L   6|W  57|D  52|W  48|\n",
      "   MI | 14601397 / R: 1438   ->1392     |     |W    |W    |B    |W    |B    |B    |W    |\n",
      "-----------------------------------------------------------------------------------------\n",
      "   36 | SIDDHARTH JHA                   |3.5  |L  13|W  57|W  51|D  33|H    |L  16|D  28|\n",
      "   MI | 14773163 / R: 1355   ->1367     |N:4  |W    |B    |W    |B    |     |W    |B    |\n",
      "-----------------------------------------------------------------------------------------\n",
      "   37 | AMIYATOSH PWNANANDAM            |3.5  |B    |L   5|W  34|L  27|H    |L  23|W  61|\n",
      "   MI | 15489571 / R:  980P12->1077P17  |     |     |B    |W    |W    |     |B    |W    |\n",
      "-----------------------------------------------------------------------------------------\n",
      "   38 | BRIAN LIU                       |3.0  |D  11|W  35|W  29|L  12|H    |L  18|L  15|\n",
      "   MI | 15108523 / R: 1423   ->1439     |N:4  |W    |B    |W    |W    |     |B    |B    |\n",
      "-----------------------------------------------------------------------------------------\n",
      "   39 | JOEL R HENDON                   |3.0  |L   1|W  54|W  40|L  16|W  44|L  21|L  24|\n",
      "   MI | 12923035 / R: 1436P23->1413     |N:4  |B    |W    |B    |W    |B    |W    |W    |\n",
      "-----------------------------------------------------------------------------------------\n",
      "   40 | FOREST ZHANG                    |3.0  |W  20|L  26|L  39|W  59|L  21|W  56|L  22|\n",
      "   MI | 14892710 / R: 1348   ->1346     |     |B    |B    |W    |W    |B    |W    |W    |\n",
      "-----------------------------------------------------------------------------------------\n",
      "   41 | KYLE WILLIAM MURPHY             |3.0  |W  59|L  17|W  58|L  20|X    |U    |U    |\n",
      "   MI | 15761443 / R: 1403P5 ->1341P9   |     |B    |W    |B    |W    |     |     |     |\n",
      "-----------------------------------------------------------------------------------------\n",
      "   42 | JARED GE                        |3.0  |L  12|L  50|L  57|D  60|D  61|W  64|W  56|\n",
      "   MI | 14462326 / R: 1332   ->1256     |     |B    |W    |B    |B    |W    |W    |B    |\n",
      "-----------------------------------------------------------------------------------------\n",
      "   43 | ROBERT GLEN VASEY               |3.0  |L  21|L  23|L  24|W  63|W  59|L  46|W  55|\n",
      "   MI | 14101068 / R: 1283   ->1244     |     |W    |B    |W    |W    |B    |B    |W    |\n",
      "-----------------------------------------------------------------------------------------\n",
      "   44 | JUSTIN D SCHILLING              |3.0  |B    |L  14|L  32|W  53|L  39|L  24|W  59|\n",
      "   MI | 15323504 / R: 1199   ->1199     |     |     |W    |B    |B    |W    |B    |W    |\n",
      "-----------------------------------------------------------------------------------------\n",
      "   45 | DEREK YAN                       |3.0  |L   5|L  51|D  60|L  56|W  63|D  55|W  58|\n",
      "   MI | 15372807 / R: 1242   ->1191     |     |W    |B    |W    |B    |W    |B    |W    |\n",
      "-----------------------------------------------------------------------------------------\n",
      "   46 | JACOB ALEXANDER LAVALLEY        |3.0  |W  35|L   7|L  27|L  50|W  64|W  43|L  23|\n",
      "   MI | 15490981 / R:  377P3 ->1076P10  |     |B    |W    |B    |W    |B    |W    |W    |\n",
      "-----------------------------------------------------------------------------------------\n",
      "   47 | ERIC WRIGHT                     |2.5  |L  18|W  24|L  21|W  61|L   8|D  51|L  25|\n",
      "   MI | 12533115 / R: 1362   ->1341     |     |W    |B    |W    |B    |W    |B    |W    |\n",
      "-----------------------------------------------------------------------------------------\n",
      "   48 | DANIEL KHAIN                    |2.5  |L  17|W  63|H    |D  52|H    |L  29|L  35|\n",
      "   MI | 14369165 / R: 1382   ->1335     |     |B    |W    |     |B    |     |W    |B    |\n",
      "-----------------------------------------------------------------------------------------\n",
      "   49 | MICHAEL J MARTIN                |2.5  |L  26|L  20|D  63|D  64|W  58|H    |U    |\n",
      "   MI | 12531685 / R: 1291P12->1259P17  |     |W    |W    |B    |W    |B    |     |     |\n",
      "-----------------------------------------------------------------------------------------\n",
      "   50 | SHIVAM JHA                      |2.5  |L  29|W  42|L  33|W  46|H    |L  31|L  30|\n",
      "   MI | 14773178 / R: 1056   ->1111     |     |W    |B    |W    |B    |     |B    |W    |\n",
      "-----------------------------------------------------------------------------------------\n",
      "   51 | TEJAS AYYAGARI                  |2.5  |L  27|W  45|L  36|W  57|L  32|D  47|L  33|\n",
      "   MI | 15205474 / R: 1011   ->1097     |     |B    |W    |B    |W    |B    |W    |W    |\n",
      "-----------------------------------------------------------------------------------------\n",
      "   52 | ETHAN GUO                       |2.5  |W  30|D  22|L  19|D  48|L  29|D  35|L  34|\n",
      "   MI | 14918803 / R:  935   ->1092     |N:4  |B    |W    |B    |W    |B    |W    |B    |\n",
      "-----------------------------------------------------------------------------------------\n",
      "   53 | JOSE C YBARRA                   |2.0  |H    |L  25|H    |L  44|U    |W  57|U    |\n",
      "   MI | 12578849 / R: 1393   ->1359     |     |     |B    |     |W    |     |W    |     |\n",
      "-----------------------------------------------------------------------------------------\n",
      "   54 | LARRY HODGE                     |2.0  |L  14|L  39|L  61|B    |L  15|L  59|W  64|\n",
      "   MI | 12836773 / R: 1270   ->1200     |     |B    |B    |W    |     |W    |B    |W    |\n",
      "-----------------------------------------------------------------------------------------\n",
      "   55 | ALEX KONG                       |2.0  |L  62|D  31|L  10|L  30|B    |D  45|L  43|\n",
      "   MI | 15412571 / R: 1186   ->1163     |     |W    |B    |W    |B    |     |W    |B    |\n",
      "-----------------------------------------------------------------------------------------\n",
      "   56 | MARISA RICCI                    |2.0  |H    |L  11|L  35|W  45|H    |L  40|L  42|\n",
      "   MI | 14679887 / R: 1153   ->1140     |     |     |B    |W    |W    |     |B    |W    |\n",
      "-----------------------------------------------------------------------------------------\n",
      "   57 | MICHAEL LU                      |2.0  |L   7|L  36|W  42|L  51|L  35|L  53|B    |\n",
      "   MI | 15113330 / R: 1092   ->1079     |     |B    |W    |W    |B    |W    |B    |     |\n",
      "-----------------------------------------------------------------------------------------\n",
      "   58 | VIRAJ MOHILE                    |2.0  |W  31|L   2|L  41|L  23|L  49|B    |L  45|\n",
      "   MI | 14700365 / R:  917   -> 941     |     |W    |B    |W    |B    |W    |     |B    |\n",
      "-----------------------------------------------------------------------------------------\n",
      "   59 | SEAN M MC CORMICK               |2.0  |L  41|B    |L   9|L  40|L  43|W  54|L  44|\n",
      "   MI | 12841036 / R:  853   -> 878     |     |W    |     |B    |B    |W    |W    |B    |\n",
      "-----------------------------------------------------------------------------------------\n",
      "   60 | JULIA SHEN                      |1.5  |L  33|L  34|D  45|D  42|L  24|H    |U    |\n",
      "   MI | 14579262 / R:  967   -> 984     |     |W    |B    |B    |W    |B    |     |     |\n",
      "-----------------------------------------------------------------------------------------\n",
      "   61 | JEZZEL FARKAS                   |1.5  |L  32|L   3|W  54|L  47|D  42|L  30|L  37|\n",
      "   ON | 15771592 / R:  955P11-> 979P18  |     |B    |W    |B    |W    |B    |W    |B    |\n",
      "-----------------------------------------------------------------------------------------\n",
      "   62 | ASHWIN BALAJI                   |1.0  |W  55|U    |U    |U    |U    |U    |U    |\n",
      "   MI | 15219542 / R: 1530   ->1535     |     |B    |     |     |     |     |     |     |\n",
      "-----------------------------------------------------------------------------------------\n",
      "   63 | THOMAS JOSEPH HOSMER            |1.0  |L   2|L  48|D  49|L  43|L  45|H    |U    |\n",
      "   MI | 15057092 / R: 1175   ->1125     |     |W    |B    |W    |B    |B    |     |     |\n",
      "-----------------------------------------------------------------------------------------\n",
      "   64 | BEN LI                          |1.0  |L  22|D  30|L  31|D  49|L  46|L  42|L  54|\n",
      "   MI | 15006561 / R: 1163   ->1112     |     |B    |W    |W    |B    |W    |B    |B    |\n",
      "-----------------------------------------------------------------------------------------\n"
     ]
    }
   ],
   "source": [
    "#Set f to open file path\n",
    "f = open(r\"C:\\Users\\ovadia sutton\\Downloads\\Project1.txt\")\n",
    "\n",
    "#read f and print\n",
    "print(f.read())"
   ]
  },
  {
   "cell_type": "markdown",
   "id": "39834736",
   "metadata": {},
   "source": [
    "Store player names"
   ]
  },
  {
   "cell_type": "markdown",
   "id": "63d9e8af",
   "metadata": {},
   "source": [
    "Player names uniquely have at least two words and all in caps. We read in the file and collect all strings with at least one capital letter followed by a space followed by at least one capital letter followed by a space and then allow for the option of more words and spaces until we observe the '|'. We also allow \"',.-\" in the middle and last name. "
   ]
  },
  {
   "cell_type": "code",
   "execution_count": 478,
   "id": "d1f4d4d6",
   "metadata": {},
   "outputs": [
    {
     "name": "stdout",
     "output_type": "stream",
     "text": [
      "64\n",
      "['GARY HUA', 'DAKSHESH DARURI', 'ADITYA BAJAJ', 'PATRICK H SCHILLING', 'HANSHI ZUO', 'HANSEN SONG', 'GARY DEE SWATHELL', 'EZEKIEL HOUGHTON', 'STEFANO LEE', 'ANVIT RAO', 'CAMERON WILLIAM MC LEMAN', 'KENNETH J TACK', 'TORRANCE HENRY JR', 'BRADLEY SHAW', 'ZACHARY JAMES HOUGHTON', 'MIKE NIKITIN', 'RONALD GRZEGORCZYK', 'DAVID SUNDEEN', 'DIPANKAR ROY', 'JASON ZHENG', 'DINH DANG BUI', 'EUGENE L MCCLURE', 'ALAN BUI', 'MICHAEL R ALDRICH', 'LOREN SCHWIEBERT', 'MAX ZHU', 'GAURAV GIDWANI', 'SOFIA ADINA STANESCU-BELLU', 'CHIEDOZIE OKORIE', 'GEORGE AVERY JONES', 'RISHI SHETTY', 'JOSHUA PHILIP MATHEWS', 'JADE GE', 'MICHAEL JEFFERY THOMAS', 'JOSHUA DAVID LEE', 'SIDDHARTH JHA', 'AMIYATOSH PWNANANDAM', 'BRIAN LIU', 'JOEL R HENDON', 'FOREST ZHANG', 'KYLE WILLIAM MURPHY', 'JARED GE', 'ROBERT GLEN VASEY', 'JUSTIN D SCHILLING', 'DEREK YAN', 'JACOB ALEXANDER LAVALLEY', 'ERIC WRIGHT', 'DANIEL KHAIN', 'MICHAEL J MARTIN', 'SHIVAM JHA', 'TEJAS AYYAGARI', 'ETHAN GUO', 'JOSE C YBARRA', 'LARRY HODGE', 'ALEX KONG', 'MARISA RICCI', 'MICHAEL LU', 'VIRAJ MOHILE', 'SEAN M MC CORMICK', 'JULIA SHEN', 'JEZZEL FARKAS', 'ASHWIN BALAJI', 'THOMAS JOSEPH HOSMER', 'BEN LI']\n"
     ]
    }
   ],
   "source": [
    "#Create empty list\n",
    "PlayerNames = []\n",
    "\n",
    "#Open file\n",
    "with open(r\"C:\\Users\\ovadia sutton\\Downloads\\Project1.txt\") as f:\n",
    "    #Loop through lines in file\n",
    "   for line in f:\n",
    "    #Append list finding two or more capital strings until the \"|\" corresponding to name\n",
    "    PlayerNames.append(re.findall('[A-Z]{1,}\\s[A-Z.,-]{1,}\\s[A-Z-\\s]+?\\|', line))\n",
    "    \n",
    "#Eliminate empty strings\n",
    "PlayerNames = list(filter(None, PlayerNames))\n",
    "\n",
    "#Create list for clean entries\n",
    "PlayerNamesFinal = []\n",
    "\n",
    "#Strip the space and '|'\n",
    "#As we have a list of list we use two loops\n",
    "#Loop through list 1\n",
    "for i in PlayerNames:\n",
    "    #Take list within list\n",
    "    for n in i:\n",
    "        #Strip undesired elements\n",
    "        PlayerNamesFinal.append(n.strip(\"  |\"))\n",
    "\n",
    "#Print length to confirm we have exactly 64 entries per number of players\n",
    "print(len(PlayerNamesFinal))\n",
    "\n",
    "#Print our list to cross-reference with text file \n",
    "print(PlayerNamesFinal)"
   ]
  },
  {
   "cell_type": "markdown",
   "id": "cc03ed6e",
   "metadata": {},
   "source": [
    "Store player states "
   ]
  },
  {
   "cell_type": "markdown",
   "id": "efccec92",
   "metadata": {},
   "source": [
    "Player states are uniquely two capital letters followed by a space and '|'"
   ]
  },
  {
   "cell_type": "code",
   "execution_count": 479,
   "id": "4d39a6e3",
   "metadata": {
    "scrolled": true
   },
   "outputs": [
    {
     "name": "stdout",
     "output_type": "stream",
     "text": [
      "64\n",
      "['ON', 'MI', 'MI', 'MI', 'MI', 'OH', 'MI', 'MI', 'ON', 'MI', 'MI', 'MI', 'MI', 'MI', 'MI', 'MI', 'MI', 'MI', 'MI', 'MI', 'ON', 'MI', 'ON', 'MI', 'MI', 'ON', 'MI', 'MI', 'MI', 'ON', 'MI', 'ON', 'MI', 'MI', 'MI', 'MI', 'MI', 'MI', 'MI', 'MI', 'MI', 'MI', 'MI', 'MI', 'MI', 'MI', 'MI', 'MI', 'MI', 'MI', 'MI', 'MI', 'MI', 'MI', 'MI', 'MI', 'MI', 'MI', 'MI', 'MI', 'ON', 'MI', 'MI', 'MI']\n"
     ]
    }
   ],
   "source": [
    "#Create empty list\n",
    "PlayerStates = []\n",
    "\n",
    "#Open file \n",
    "with open(r\"C:\\Users\\ovadia sutton\\Downloads\\Project1.txt\") as f:\n",
    "    #Loop through the lines in file \n",
    "   for line in f:\n",
    "    #Append list finding exactly two capital letters and space then \"|\" - corresponding to state \n",
    "    PlayerStates.append(re.findall('[A-Z]{2}\\s\\|', line))\n",
    "    \n",
    "#Eliminate empty strings\n",
    "PlayerStates = list(filter(None, PlayerStates))\n",
    "\n",
    "#Create list for clean entries\n",
    "PlayerStatesFinal = []\n",
    "\n",
    "#Strip the space and '|'\n",
    "#As we have a list of list we use two loops\n",
    "#Loop through list 1\n",
    "for i in PlayerStates:\n",
    "    #Take list within list\n",
    "    for n in i:\n",
    "        #Strip undesired elements\n",
    "        PlayerStatesFinal.append(n.strip(\"  |\"))\n",
    "        \n",
    "\n",
    "#Print length to confirm we have exactly 64 entries per number of players\n",
    "print(len(PlayerStates1))\n",
    "\n",
    "#Print list to cross-reference with text file \n",
    "print(PlayerStates1)"
   ]
  },
  {
   "cell_type": "markdown",
   "id": "67a1c6ce",
   "metadata": {},
   "source": [
    "Store player score"
   ]
  },
  {
   "cell_type": "markdown",
   "id": "b593b6ed",
   "metadata": {},
   "source": [
    "Player scores are uniquely a digit followed by a '.' followed by a second digit"
   ]
  },
  {
   "cell_type": "code",
   "execution_count": 480,
   "id": "b33c61e3",
   "metadata": {},
   "outputs": [
    {
     "name": "stdout",
     "output_type": "stream",
     "text": [
      "64\n",
      "['6.0', '6.0', '6.0', '5.5', '5.5', '5.0', '5.0', '5.0', '5.0', '5.0', '4.5', '4.5', '4.5', '4.5', '4.5', '4.0', '4.0', '4.0', '4.0', '4.0', '4.0', '4.0', '4.0', '4.0', '3.5', '3.5', '3.5', '3.5', '3.5', '3.5', '3.5', '3.5', '3.5', '3.5', '3.5', '3.5', '3.5', '3.0', '3.0', '3.0', '3.0', '3.0', '3.0', '3.0', '3.0', '3.0', '2.5', '2.5', '2.5', '2.5', '2.5', '2.5', '2.0', '2.0', '2.0', '2.0', '2.0', '2.0', '2.0', '1.5', '1.5', '1.0', '1.0', '1.0']\n"
     ]
    }
   ],
   "source": [
    "#Create empty list\n",
    "PlayerScores = []\n",
    "\n",
    "#Open file \n",
    "with open(r\"C:\\Users\\ovadia sutton\\Downloads\\Project1.txt\") as f:\n",
    "   #Loop through the lines in file \n",
    "   for line in f:\n",
    "    #Append list with digit followed by '.' followed by digit - correspnding to score\n",
    "    PlayerScores.append(re.findall('\\d\\.\\d', line))\n",
    "\n",
    "#Eliminate empty strings\n",
    "PlayerScores = list(filter(None, PlayerScores))\n",
    "\n",
    "#Create list for clean entries\n",
    "PlayerScoresFinal = []\n",
    "\n",
    "#Strip the space and '|'\n",
    "#As we have a list of list we use two loops\n",
    "#Loop through list 1\n",
    "for i in PlayerScores:\n",
    "    #Take list within list\n",
    "    for n in i:\n",
    "        #Strip undesired elements\n",
    "        PlayerScoresFinal.append(n.strip(\"[]\"))\n",
    "\n",
    "#Print length to confirm we have exactly 64 entries per number of players\n",
    "print(len(PlayerScoresFinal))\n",
    "\n",
    "#Print list to cross-reference with text file\n",
    "print(PlayerScoresFinal)"
   ]
  },
  {
   "cell_type": "markdown",
   "id": "37d26369",
   "metadata": {},
   "source": [
    "Store player  pre tournament ratings"
   ]
  },
  {
   "cell_type": "markdown",
   "id": "48706aca",
   "metadata": {},
   "source": [
    "Player's pre-tournament rating are uniquely \"R:\" followed by one or two spaces followed by a 3-4 digit rating.\n",
    "(We may exclude the R: but should include the space to prevent collecting the post tournament rating)\n",
    "\n",
    "*We note the interest to store this in a computable way and save for next step"
   ]
  },
  {
   "cell_type": "code",
   "execution_count": 481,
   "id": "0e743f7b",
   "metadata": {},
   "outputs": [
    {
     "name": "stdout",
     "output_type": "stream",
     "text": [
      "64\n",
      "['1794', '1553', '1384', '1716', '1655', '1686', '1649', '1641', '1411', '1365', '1712', '1663', '1666', '1610', '1220', '1604', '1629', '1600', '1564', '1595', '1563', '1555', '1363', '1229', '1745', '1579', '1552', '1507', '1602', '1522', '1494', '1441', '1449', '1399', '1438', '1355', '980', '1423', '1436', '1348', '1403', '1332', '1283', '1199', '1242', '377', '1362', '1382', '1291', '1056', '1011', '935', '1393', '1270', '1186', '1153', '1092', '917', '853', '967', '955', '1530', '1175', '1163']\n"
     ]
    }
   ],
   "source": [
    "#Create empty list\n",
    "PlayerRatingPre = []\n",
    "\n",
    "#Open file \n",
    "with open(r\"C:\\Users\\ovadia sutton\\Downloads\\Project1.txt\") as f:\n",
    "    #Loop through the lines in file \n",
    "   for line in f:\n",
    "    #Append list with digit followed by '.' followed by digit - correspnding to score\n",
    "    PlayerRatingPre.append(re.findall('R:\\s\\s?\\d+', line))\n",
    "    \n",
    "#Eliminate empty strings\n",
    "PlayerRatingPre = list(filter(None, PlayerRatingPre))\n",
    "\n",
    "#Create list for clean entries\n",
    "PlayerRatingPreFinal = []\n",
    "\n",
    "#Strip the space and '|'\n",
    "#As we have a list of list we use two loops\n",
    "#Loop through list 1\n",
    "for i in PlayerRatingPre:\n",
    "    #Take list within list\n",
    "    for n in i:\n",
    "        #Strip undesired elements\n",
    "        PlayerRatingPreFinal.append(n.strip(\"R:  \"))\n",
    "\n",
    "#Print length to confirm we have exactly 64 entries per number of players\n",
    "print(len(PlayerRatingPreFinal))\n",
    "\n",
    "#Print list to cross-reference with text file\n",
    "print(PlayerRatingPreFinal)"
   ]
  },
  {
   "cell_type": "markdown",
   "id": "7cbb82f1",
   "metadata": {},
   "source": [
    "Store average opponent rating"
   ]
  },
  {
   "cell_type": "markdown",
   "id": "90669d17",
   "metadata": {},
   "source": [
    "Approach: \n",
    "1. Store our unique player IDs. \n",
    "2. Create a dictionary with keys as unique ID and values as Pre-tournament rating\n",
    "3. For each player we store their opponent's ID of each game\n",
    "4. We use this to reference the dictionary and thier ratings\n",
    "5. Take an average of their ratings and return"
   ]
  },
  {
   "cell_type": "markdown",
   "id": "41678166",
   "metadata": {},
   "source": [
    "Create dictionary of IDs as key and Ratings as value"
   ]
  },
  {
   "cell_type": "code",
   "execution_count": 482,
   "id": "333f255e",
   "metadata": {},
   "outputs": [
    {
     "name": "stdout",
     "output_type": "stream",
     "text": [
      "{1: 1794, 2: 1553, 3: 1384, 4: 1716, 5: 1655, 6: 1686, 7: 1649, 8: 1641, 9: 1411, 10: 1365, 11: 1712, 12: 1663, 13: 1666, 14: 1610, 15: 1220, 16: 1604, 17: 1629, 18: 1600, 19: 1564, 20: 1595, 21: 1563, 22: 1555, 23: 1363, 24: 1229, 25: 1745, 26: 1579, 27: 1552, 28: 1507, 29: 1602, 30: 1522, 31: 1494, 32: 1441, 33: 1449, 34: 1399, 35: 1438, 36: 1355, 37: 980, 38: 1423, 39: 1436, 40: 1348, 41: 1403, 42: 1332, 43: 1283, 44: 1199, 45: 1242, 46: 377, 47: 1362, 48: 1382, 49: 1291, 50: 1056, 51: 1011, 52: 935, 53: 1393, 54: 1270, 55: 1186, 56: 1153, 57: 1092, 58: 917, 59: 853, 60: 967, 61: 955, 62: 1530, 63: 1175, 64: 1163}\n"
     ]
    }
   ],
   "source": [
    "#Instead of pulling ID's from data we create a list from 1-64 and call it ID\n",
    "ID = list(range(1, 65))\n",
    "\n",
    "#Store ratings as int values \n",
    "PreRatingInt = [int(float(x)) for x in PlayerRatingPreFinal]\n",
    "\n",
    "#Create dictionary with ID as key and PreRatingInt as value\n",
    "IDRating = dict(zip(ID, PreRatingInt))\n",
    "\n",
    "#Print dictionary\n",
    "print(IDRating)"
   ]
  },
  {
   "cell_type": "markdown",
   "id": "f00f6a79",
   "metadata": {},
   "source": [
    "Collect match data \n",
    "Represented by either W, L, D followed by 1 or 2 digits (represnting ID)\n",
    "Collect list of lists of opponents and show in data frame. Unplayed matches will show up as None"
   ]
  },
  {
   "cell_type": "code",
   "execution_count": 483,
   "id": "b2ce49bd",
   "metadata": {
    "scrolled": true
   },
   "outputs": [
    {
     "name": "stdout",
     "output_type": "stream",
     "text": [
      "     0     1     2     3     4     5     6\n",
      "0   39  21.0  18.0  14.0   7.0  12.0   4.0\n",
      "1   63  58.0   4.0  17.0  16.0  20.0   7.0\n",
      "2    8  61.0  25.0  21.0  11.0  13.0  12.0\n",
      "3   23  28.0   2.0  26.0   5.0  19.0   1.0\n",
      "4   45  37.0  12.0  13.0   4.0  14.0  17.0\n",
      "..  ..   ...   ...   ...   ...   ...   ...\n",
      "59  33  34.0  45.0  42.0  24.0   NaN   NaN\n",
      "60  32   3.0  54.0  47.0  42.0  30.0  37.0\n",
      "61  55   NaN   NaN   NaN   NaN   NaN   NaN\n",
      "62   2  48.0  49.0  43.0  45.0   NaN   NaN\n",
      "63  22  30.0  31.0  49.0  46.0  42.0  54.0\n",
      "\n",
      "[64 rows x 7 columns]\n"
     ]
    }
   ],
   "source": [
    "# Collect Match data \n",
    "#Declare Opponent ID\n",
    "OpponentID = []\n",
    "\n",
    "#Open file \n",
    "with open(r\"C:\\Users\\ovadia sutton\\Downloads\\Project1.txt\") as f:\n",
    "    #Loop through the lines in file \n",
    "   for line in f:\n",
    "    #Collect OpponentID identified as Capital letter followed 2 or 3 spaces followed by 1 or 2 digits followed by \"|\"\n",
    "    OpponentID.append(re.findall('[A-Z]{1}\\s\\s\\s?[\\d]{1,2}\\|', line))\n",
    "    \n",
    "#Eliminate empty strings\n",
    "OpponentID = list(filter(None, OpponentID))\n",
    "\n",
    "#Create list of lists for clean entries\n",
    "OpponentIDFinal = []\n",
    "\n",
    "#Strip undesired elements\n",
    "for i in OpponentID:\n",
    "    OpponentIDFinal.append(n.strip(\"WLD   |\"  \"\")for n in i)\n",
    "\n",
    "#Convert to int\n",
    "#Create new list\n",
    "OpponentIDInt = []\n",
    "\n",
    "#Loop through OpponentIDFinal\n",
    "for i in OpponentIDFinal:\n",
    "    #Save values as int\n",
    "    OpponentIDInt.append(int(float(x)) for x in i)\n",
    "\n",
    "#Show OpponentIDInt in Dataframe\n",
    "df1 = pd.DataFrame(OpponentIDInt)\n",
    "\n",
    "print(df1)   "
   ]
  },
  {
   "cell_type": "markdown",
   "id": "5d76a029",
   "metadata": {},
   "source": [
    "Use OpponentID list of lists as key to identify ratings value from IDRating dictionary then take average \n",
    "*We struggled a bit here with reading dictionaries and building new lists to compute average but think we are on the doorstep"
   ]
  },
  {
   "cell_type": "code",
   "execution_count": 488,
   "id": "217a71be",
   "metadata": {},
   "outputs": [
    {
     "name": "stdout",
     "output_type": "stream",
     "text": [
      "[<generator object <genexpr> at 0x0000019939B98EB0>, <generator object <genexpr> at 0x0000019939B98B30>, <generator object <genexpr> at 0x0000019939B98BA0>, <generator object <genexpr> at 0x0000019939B98AC0>, <generator object <genexpr> at 0x0000019939B98A50>, <generator object <genexpr> at 0x0000019939B98970>, <generator object <genexpr> at 0x0000019939B98890>, <generator object <genexpr> at 0x0000019939B986D0>, <generator object <genexpr> at 0x0000019939B98DD0>, <generator object <genexpr> at 0x0000019939A01350>, <generator object <genexpr> at 0x0000019939A012E0>, <generator object <genexpr> at 0x0000019939A01270>, <generator object <genexpr> at 0x0000019939A01200>, <generator object <genexpr> at 0x0000019939A01190>, <generator object <genexpr> at 0x0000019939A01120>, <generator object <genexpr> at 0x0000019939A010B0>, <generator object <genexpr> at 0x0000019939A01040>, <generator object <genexpr> at 0x0000019939B5B200>, <generator object <genexpr> at 0x0000019939B5B270>, <generator object <genexpr> at 0x0000019939B5B4A0>, <generator object <genexpr> at 0x0000019939B5B2E0>, <generator object <genexpr> at 0x0000019939B5B430>, <generator object <genexpr> at 0x0000019939B5B510>, <generator object <genexpr> at 0x0000019939B5B580>, <generator object <genexpr> at 0x0000019939B5B5F0>, <generator object <genexpr> at 0x0000019939B5B660>, <generator object <genexpr> at 0x0000019939B5B6D0>, <generator object <genexpr> at 0x0000019939B5B740>, <generator object <genexpr> at 0x0000019939B5B7B0>, <generator object <genexpr> at 0x0000019939B5B820>, <generator object <genexpr> at 0x0000019939B5B890>, <generator object <genexpr> at 0x0000019939B5B900>, <generator object <genexpr> at 0x0000019939B5B970>, <generator object <genexpr> at 0x0000019939B5B9E0>, <generator object <genexpr> at 0x0000019939B5BA50>, <generator object <genexpr> at 0x0000019939B5BAC0>, <generator object <genexpr> at 0x0000019939B5BB30>, <generator object <genexpr> at 0x0000019939B5BBA0>, <generator object <genexpr> at 0x0000019939B5BC10>, <generator object <genexpr> at 0x0000019939B5BC80>, <generator object <genexpr> at 0x0000019939B5BCF0>, <generator object <genexpr> at 0x0000019939B5BD60>, <generator object <genexpr> at 0x0000019939B5BDD0>, <generator object <genexpr> at 0x0000019939B5BE40>, <generator object <genexpr> at 0x0000019939B5BEB0>, <generator object <genexpr> at 0x0000019939B5BF20>, <generator object <genexpr> at 0x0000019939B5BF90>, <generator object <genexpr> at 0x0000019939B50F90>, <generator object <genexpr> at 0x0000019939B50F20>, <generator object <genexpr> at 0x0000019939B50EB0>, <generator object <genexpr> at 0x0000019939B50E40>, <generator object <genexpr> at 0x0000019939B50DD0>, <generator object <genexpr> at 0x0000019939B50D60>, <generator object <genexpr> at 0x0000019939B50CF0>, <generator object <genexpr> at 0x0000019939B50C80>, <generator object <genexpr> at 0x0000019939B50C10>, <generator object <genexpr> at 0x0000019939B50BA0>, <generator object <genexpr> at 0x0000019939B50B30>, <generator object <genexpr> at 0x0000019939B50AC0>, <generator object <genexpr> at 0x0000019939B50A50>, <generator object <genexpr> at 0x0000019939B509E0>, <generator object <genexpr> at 0x0000019939B50970>, <generator object <genexpr> at 0x0000019939B50900>, <generator object <genexpr> at 0x0000019939B50890>]\n"
     ]
    }
   ],
   "source": [
    "#Create list for Opponent Rating\n",
    "OpponentRating = []\n",
    "\n",
    "#Loop through OpponentID\n",
    "for i in OpponentIDFinal:\n",
    "    #Use as key for OpponentRating\n",
    "    OpponentRating.append(IDRating[x] for x in i)\n",
    "\n",
    "#Create list for Opponent Average\n",
    "\"\"\"OpponentAverage = []\"\"\"\n",
    "\n",
    "#Loop through Opponent Rating lists\n",
    "\"\"\"\"for i in OpponentRating:\"\"\"\n",
    "    #Compute Average of each list and assign to Opponent Average\n",
    "\"\"\"OpponentAverage.append(st.mean(i))\"\"\"\n",
    "\n",
    "#print results \n",
    "print(OpponentRating)"
   ]
  },
  {
   "cell_type": "markdown",
   "id": "513893f7",
   "metadata": {},
   "source": [
    "Create dataframe"
   ]
  },
  {
   "cell_type": "code",
   "execution_count": 489,
   "id": "79aeef0d",
   "metadata": {},
   "outputs": [
    {
     "name": "stdout",
     "output_type": "stream",
     "text": [
      "             Player Name State Score Pre-Rating\n",
      "0               GARY HUA    ON   6.0       1794\n",
      "1        DAKSHESH DARURI    MI   6.0       1553\n",
      "2           ADITYA BAJAJ    MI   6.0       1384\n",
      "3    PATRICK H SCHILLING    MI   5.5       1716\n",
      "4             HANSHI ZUO    MI   5.5       1655\n",
      "..                   ...   ...   ...        ...\n",
      "59            JULIA SHEN    MI   1.5        967\n",
      "60         JEZZEL FARKAS    ON   1.5        955\n",
      "61         ASHWIN BALAJI    MI   1.0       1530\n",
      "62  THOMAS JOSEPH HOSMER    MI   1.0       1175\n",
      "63                BEN LI    MI   1.0       1163\n",
      "\n",
      "[64 rows x 4 columns]\n"
     ]
    }
   ],
   "source": [
    "#reate data frame with our lists and label columns\n",
    "df = pd.DataFrame(list(zip(PlayerNamesFinal, PlayerStatesFinal, PlayerScoresFinal, PlayerRatingPreFinal)),\n",
    "               columns =['Player Name', 'State', 'Score', 'Pre-Rating'])\n",
    "#print results\n",
    "print(df)"
   ]
  },
  {
   "cell_type": "markdown",
   "id": "a9111252",
   "metadata": {},
   "source": [
    "Create CSV file"
   ]
  },
  {
   "cell_type": "code",
   "execution_count": 490,
   "id": "7c170289",
   "metadata": {},
   "outputs": [],
   "source": [
    "#Create CSV file with results\n",
    "df.to_csv(r\"C:\\Users\\ovadia sutton\\Downloads\\Chess_Results.csv\")"
   ]
  },
  {
   "cell_type": "markdown",
   "id": "5ac50a02",
   "metadata": {},
   "source": [
    "Some questions:\n",
    "\n",
    "1. I was saving lists of lists instead of list of strings and then converting to list of strings as can be observed. Would be simpler to just save as list of strings from the start. When I tried to do that I got a lot of errors. Can use some guidance on this. \n",
    "\n",
    "2. How to use a character for criteria but not include in actual list. Here I include the \"|\" and then strip. How can I use the \"|\" to define criteria but not include in name/state etc."
   ]
  }
 ],
 "metadata": {
  "kernelspec": {
   "display_name": "Python 3 (ipykernel)",
   "language": "python",
   "name": "python3"
  },
  "language_info": {
   "codemirror_mode": {
    "name": "ipython",
    "version": 3
   },
   "file_extension": ".py",
   "mimetype": "text/x-python",
   "name": "python",
   "nbconvert_exporter": "python",
   "pygments_lexer": "ipython3",
   "version": "3.9.7"
  }
 },
 "nbformat": 4,
 "nbformat_minor": 5
}
